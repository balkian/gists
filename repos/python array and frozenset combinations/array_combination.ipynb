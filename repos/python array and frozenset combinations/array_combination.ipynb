{
 "metadata": {
  "name": "Untitled0"
 },
 "nbformat": 3,
 "nbformat_minor": 0,
 "worksheets": [
  {
   "cells": [
    {
     "cell_type": "code",
     "collapsed": false,
     "input": "a=set([3,4])\nb=set([3,7])\nc=set([4])\n",
     "language": "python",
     "metadata": {},
     "outputs": [],
     "prompt_number": 6
    },
    {
     "cell_type": "code",
     "collapsed": false,
     "input": "def array_combinations(*args):\n    combinations = [set([i]) for i in set(args[0])]\n    for arg in args[1:]:\n        tempcomb = []\n        for i in set(arg):\n            for c in combinations:\n                c.update([i])\n                tempcomb.append(c)\n        if tempcomb:\n            combinations = tempcomb\n    return combinations\nres = array_combinations(a,b,c)\nprint res\nprint len(res)",
     "language": "python",
     "metadata": {},
     "outputs": [
      {
       "output_type": "stream",
       "stream": "stdout",
       "text": "[set([3, 4, 7]), set([3, 4, 7]), set([3, 4, 7]), set([3, 4, 7])]\n4\n"
      }
     ],
     "prompt_number": 25
    }
   ],
   "metadata": {}
  }
 ]
}