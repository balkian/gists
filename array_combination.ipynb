{
 "metadata": {
  "name": "Untitled0"
 },
 "nbformat": 3,
 "nbformat_minor": 0,
 "worksheets": [
  {
   "cells": [
    {
     "cell_type": "code",
     "collapsed": false,
     "input": "a=set([3,4])\nb=set([3])\nc=set([4])\n",
     "language": "python",
     "metadata": {},
     "outputs": [],
     "prompt_number": 1
    },
    {
     "cell_type": "code",
     "collapsed": false,
     "input": "def array_combinations(*args):\n    combinations = [[i] for i in set(args[0])]\n    for arg in args[1:]:\n        tempcomb = []\n        for i in set(arg):\n            tempcomb += [c+[i] for c in combinations if i not in c ]\n        if tempcomb:\n            combinations = tempcomb\n    return combinations\nres = array_combinations(a,b,c)\nprint res\nprint len(res)",
     "language": "python",
     "metadata": {},
     "outputs": [
      {
       "output_type": "stream",
       "stream": "stdout",
       "text": "[[4, 3]]\n1\n"
      }
     ],
     "prompt_number": 5
    }
   ],
   "metadata": {}
  }
 ]
}